{
 "cells": [
  {
   "cell_type": "markdown",
   "metadata": {},
   "source": [
    "Helpful code:\n",
    "\n",
    "var1=re.compile(regexstring)\n",
    "\n",
    "list1=[list of strings to search]\n",
    "\n",
    "filter(var1.match,list1)"
   ]
  },
  {
   "cell_type": "markdown",
   "metadata": {},
   "source": [
    "Part 2. Regular Expressions"
   ]
  },
  {
   "cell_type": "markdown",
   "metadata": {},
   "source": [
    "1. How to use a regular expression to find times after noon, but before midnight in military time.\n",
    "\n",
    "    Must match 12:01-23:59, but not any time starting with zero (aka 09:00) or 12:00, or 24:00."
   ]
  },
  {
   "cell_type": "markdown",
   "metadata": {},
   "source": [
    "Pseudo-regex:\n",
    "\n",
    "Numeric character 1 or 2\n",
    "\n",
    "If first numeric character is 1, the second character can be 2-9 (for 12-19)\n",
    "\n",
    "If first numeric character is 2, the second character can be 0-3 (for 20-23)\n",
    "\n",
    "First two numeric characters are followed by a colon.\n",
    "\n",
    "The character after the colon can be 0-5.\n",
    "\n",
    "The last character can be 0-9, unless the first character is 1 and the second character is 2, and the third character is 0, because that could match 12:00.\n",
    "\n",
    "Split the regex into multiple parts with \"|\" character in between for \"this or this\".\n",
    "\n",
    "1. To match 12:01-12:09\n",
    "\n",
    "    re \"12\\:0[1-9]\"\n",
    "    \n",
    "2. To match 12:10-12:59\n",
    "\n",
    "    re\"12\\:[1-5][0-9]\"\n",
    "    \n",
    "3. To match 13:00-19:59\n",
    "\n",
    "    re\"1[3-9]\\:\n",
    "4. To match 20:00-23:59"
   ]
  },
  {
   "cell_type": "code",
   "execution_count": 19,
   "metadata": {},
   "outputs": [
    {
     "data": {
      "text/plain": [
       "['12:01']"
      ]
     },
     "execution_count": 19,
     "metadata": {},
     "output_type": "execute_result"
    }
   ],
   "source": [
    "import re\n",
    "var1=re.compile(r\"(12\\:0[1-9])|(12\\:[1-5][0-9])\")\n",
    "list1=[\"12:01\",\"3:40\",\"24:00\",\"12:00\",\"23\",\"67:00\",\"14:34\",\"abcd\"]\n",
    "filter(var1.match,list1)"
   ]
  }
 ],
 "metadata": {
  "kernelspec": {
   "display_name": "Python 2",
   "language": "python",
   "name": "python2"
  },
  "language_info": {
   "codemirror_mode": {
    "name": "ipython",
    "version": 2
   },
   "file_extension": ".py",
   "mimetype": "text/x-python",
   "name": "python",
   "nbconvert_exporter": "python",
   "pygments_lexer": "ipython2",
   "version": "2.7.13"
  }
 },
 "nbformat": 4,
 "nbformat_minor": 2
}
